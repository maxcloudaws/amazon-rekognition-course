{
 "cells": [
  {
   "cell_type": "markdown",
   "id": "8b8b4068",
   "metadata": {},
   "source": [
    "# Moderacion de contenido"
   ]
  },
  {
   "cell_type": "markdown",
   "id": "2e6d733c",
   "metadata": {},
   "source": [
    "## Moderacion de contenido en imagenes"
   ]
  },
  {
   "cell_type": "code",
   "execution_count": null,
   "id": "c6a31558",
   "metadata": {},
   "outputs": [],
   "source": [
    "# Iniciamos las librerias\n",
    "import boto3\n",
    "from IPython.display import Image as IImage, display\n",
    "from IPython.display import HTML, display\n",
    "from PIL import Image, ImageDraw, ImageFont\n",
    "import time\n",
    "import os"
   ]
  },
  {
   "cell_type": "code",
   "execution_count": null,
   "id": "d813acfe",
   "metadata": {},
   "outputs": [],
   "source": [
    "# Iniciamos el cliente\n",
    "rekognition = boto3.client('rekognition')\n",
    "s3 = boto3.client('s3')"
   ]
  },
  {
   "cell_type": "code",
   "execution_count": null,
   "id": "11d13c5d",
   "metadata": {},
   "outputs": [],
   "source": [
    "# Colocamos el nombre de nuestro bucket\n",
    "bucketName = \"{REPLACE_YOUR_BUCKET}\"\n",
    "imageName = \"moderacion-de-contenido/yoga_swimwear.jpg\""
   ]
  },
  {
   "cell_type": "code",
   "execution_count": null,
   "id": "780509b9",
   "metadata": {},
   "outputs": [],
   "source": [
    "# Subimos la imagen a S3\n",
    "s3.upload_file(\n",
    "    Filename=\"recursos/yoga_swimwear.jpg\",\n",
    "    Bucket=bucketName,\n",
    "    Key=imageName,\n",
    ")"
   ]
  },
  {
   "cell_type": "code",
   "execution_count": null,
   "id": "952c12eb",
   "metadata": {},
   "outputs": [],
   "source": [
    "# Mostramos la imagen desde S3\n",
    "display(IImage(url=s3.generate_presigned_url('get_object', Params={'Bucket': bucketName, 'Key': imageName})))"
   ]
  },
  {
   "cell_type": "code",
   "execution_count": null,
   "id": "209c31e8",
   "metadata": {},
   "outputs": [],
   "source": [
    "# Llamamos a la API de rekognition para detectar el contenido inapropiado\n",
    "detectModerationLabelsResponse = rekognition.detect_moderation_labels(\n",
    "   Image={\n",
    "       'S3Object': {\n",
    "           'Bucket': bucketName,\n",
    "           'Name': imageName,\n",
    "       }\n",
    "   }\n",
    "   #,MinConfidence=80\n",
    ")"
   ]
  },
  {
   "cell_type": "code",
   "execution_count": null,
   "id": "fa8204a4",
   "metadata": {},
   "outputs": [],
   "source": [
    "# Mostramos el JSON retornado por la API\n",
    "display(detectModerationLabelsResponse)"
   ]
  },
  {
   "cell_type": "code",
   "execution_count": null,
   "id": "fa6adf4d",
   "metadata": {},
   "outputs": [],
   "source": [
    "# Mostramos la lista de etiquetas detectadas\n",
    "for label in detectModerationLabelsResponse[\"ModerationLabels\"]:\n",
    "    print(\"- {} (Confidence: {})\".format(label[\"Name\"], label[\"Confidence\"]))\n",
    "    print(\"  - Parent: {}\".format(label[\"ParentName\"]))"
   ]
  },
  {
   "cell_type": "markdown",
   "id": "8600292e",
   "metadata": {},
   "source": [
    "## Moderacion de contenido en videos"
   ]
  },
  {
   "cell_type": "code",
   "execution_count": null,
   "id": "371fad96",
   "metadata": {},
   "outputs": [],
   "source": [
    "# Direccion donde subiremos nuestro video a S3\n",
    "videoName = \"moderacion-de-contenido/moderation.mov\""
   ]
  },
  {
   "cell_type": "code",
   "execution_count": null,
   "id": "156257c0",
   "metadata": {},
   "outputs": [],
   "source": [
    "# Subimos la imagen a S3\n",
    "s3.upload_file(\n",
    "    Filename=\"recursos/moderation.mov\",\n",
    "    Bucket=bucketName,\n",
    "    Key=videoName,\n",
    ")"
   ]
  },
  {
   "cell_type": "code",
   "execution_count": null,
   "id": "39a711f2",
   "metadata": {},
   "outputs": [],
   "source": [
    "# Empezamos el job de moderacion de contenido\n",
    "startModerationLabelDetection = rekognition.start_content_moderation(\n",
    "    Video={\n",
    "        'S3Object': {\n",
    "            'Bucket': bucketName,\n",
    "            'Name': videoName,\n",
    "        }\n",
    "    },\n",
    ")\n",
    "\n",
    "moderationJobId = startModerationLabelDetection['JobId']\n",
    "display(\"Job Id: {0}\".format(moderationJobId))"
   ]
  },
  {
   "cell_type": "code",
   "execution_count": null,
   "id": "e1110689",
   "metadata": {},
   "outputs": [],
   "source": [
    "# Esperamos que el job de moderacion de contenido termine\n",
    "getContentModeration = rekognition.get_content_moderation(\n",
    "    JobId=moderationJobId,\n",
    "    SortBy='TIMESTAMP'\n",
    ")\n",
    "\n",
    "while(getContentModeration['JobStatus'] == 'IN_PROGRESS'):\n",
    "    time.sleep(5)\n",
    "    print('.', end='')\n",
    " \n",
    "    getContentModeration = rekognition.get_content_moderation(\n",
    "    JobId=moderationJobId,\n",
    "    SortBy='TIMESTAMP')\n",
    "    \n",
    "display(getContentModeration['JobStatus'])"
   ]
  },
  {
   "cell_type": "code",
   "execution_count": null,
   "id": "6a1077c6",
   "metadata": {},
   "outputs": [],
   "source": [
    "# Mostramos el JSON retornado por la API\n",
    "display(getContentModeration)"
   ]
  },
  {
   "cell_type": "code",
   "execution_count": null,
   "id": "31d7c884",
   "metadata": {},
   "outputs": [],
   "source": [
    "theObjects = {}\n",
    "\n",
    "strDetail = \"Moderation labels in video<br>=======================================<br>\"\n",
    "strOverall = \"Moderation labels in the overall video:<br>=======================================<br>\"\n",
    "\n",
    "# Contenido inseguro detectado en cada frame\n",
    "for obj in getContentModeration['ModerationLabels']:\n",
    "    ts = obj [\"Timestamp\"]\n",
    "    cconfidence = obj['ModerationLabel'][\"Confidence\"]\n",
    "    oname = obj['ModerationLabel'][\"Name\"]\n",
    "    strDetail = strDetail + \"At {} ms: {} (Confidence: {})<br>\".format(ts, oname, round(cconfidence,2))\n",
    "    if oname in theObjects:\n",
    "        cojb = theObjects[oname]\n",
    "        theObjects[oname] = {\"Name\" : oname, \"Count\": 1+cojb[\"Count\"]}\n",
    "    else:\n",
    "        theObjects[oname] = {\"Name\" : oname, \"Count\": 1}\n",
    "\n",
    "# Objetos unicos detectado en el video\n",
    "for theObject in theObjects:\n",
    "    strOverall = strOverall + \"Name: {}, Count: {}<br>\".format(theObject, theObjects[theObject][\"Count\"])\n",
    "\n",
    "# Mostramos los resultados\n",
    "display(HTML(strOverall))"
   ]
  },
  {
   "cell_type": "code",
   "execution_count": null,
   "id": "7f0b8ce3",
   "metadata": {},
   "outputs": [],
   "source": [
    "# Mostramos el video\n",
    "s3VideoUrl = s3.generate_presigned_url('get_object', Params={'Bucket': bucketName, 'Key': videoName})\n",
    "videoTag = \"<video controls='controls' autoplay width='640' height='360' name='Video' src='{0}'></video>\".format(s3VideoUrl)\n",
    "videoui = \"<table><tr><td style='vertical-align: top'>{}</td></tr></table>\".format(videoTag)\n",
    "display(HTML(videoui))"
   ]
  },
  {
   "cell_type": "code",
   "execution_count": null,
   "id": "aeaa68fe",
   "metadata": {},
   "outputs": [],
   "source": [
    "listui = \"<table><tr><td style='vertical-align: top'>{}</td></tr></table>\".format(strDetail)\n",
    "display(HTML(listui))"
   ]
  }
 ],
 "metadata": {
  "kernelspec": {
   "display_name": "conda_python3",
   "language": "python",
   "name": "conda_python3"
  },
  "language_info": {
   "codemirror_mode": {
    "name": "ipython",
    "version": 3
   },
   "file_extension": ".py",
   "mimetype": "text/x-python",
   "name": "python",
   "nbconvert_exporter": "python",
   "pygments_lexer": "ipython3",
   "version": "3.8.12"
  }
 },
 "nbformat": 4,
 "nbformat_minor": 5
}
